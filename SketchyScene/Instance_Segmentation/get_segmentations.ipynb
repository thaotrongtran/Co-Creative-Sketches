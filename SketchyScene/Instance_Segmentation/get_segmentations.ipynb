{
 "cells": [
  {
   "cell_type": "code",
   "execution_count": 1,
   "metadata": {},
   "outputs": [
    {
     "name": "stderr",
     "output_type": "stream",
     "text": [
      "Using TensorFlow backend.\n"
     ]
    }
   ],
   "source": [
    "import os\n",
    "import sys\n",
    "import argparse\n",
    "import tensorflow as tf\n",
    "import numpy as np\n",
    "\n",
    "sys.path.append('libs')\n",
    "from config import Config\n",
    "import utils\n",
    "import model as modellib\n",
    "import visualize\n",
    "from model import log\n",
    "from edgelist_utils import refine_mask_with_edgelist\n",
    "from SketchDataset import SketchDataset"
   ]
  },
  {
   "cell_type": "code",
   "execution_count": 2,
   "metadata": {},
   "outputs": [],
   "source": [
    "os.environ[\"CUDA_VISIBLE_DEVICES\"] = \"0\"\n",
    "from keras.backend.tensorflow_backend import set_session\n",
    "tf_config = tf.ConfigProto()\n",
    "tf_config.gpu_options.allow_growth = True\n",
    "set_session(tf.Session(config=tf_config))"
   ]
  },
  {
   "cell_type": "code",
   "execution_count": 3,
   "metadata": {},
   "outputs": [],
   "source": [
    "class SketchInferConfig(Config):\n",
    "    # Give the configuration a recognizable name\n",
    "    NAME = \"sketchyscene\"\n",
    "\n",
    "    # Train on 1 GPU and 16 images per GPU. We can put multiple images on each\n",
    "    # GPU because the images are small. Batch size is 16 (GPUs * images/GPU).\n",
    "    GPU_COUNT = 1\n",
    "    IMAGES_PER_GPU = 1\n",
    "\n",
    "    # Number of classes (including background)\n",
    "    NUM_CLASSES = 1 + 46  # background + 46 classes\n",
    "\n",
    "    # If enabled, resizes instance masks to a smaller size to reduce\n",
    "    # memory load. Recommended when using high-resolution images.\n",
    "    USE_MINI_MASK = True\n",
    "\n",
    "    # image shape.\n",
    "    IMAGE_MIN_DIM = 768\n",
    "    IMAGE_MAX_DIM = 768\n",
    "\n",
    "    # anchor side in pixels\n",
    "    RPN_ANCHOR_SCALES = (32, 64, 128, 256, 512)\n",
    "\n",
    "    # use the binary input to filter the pred_mask if 'True'\n",
    "    IGNORE_BG = True"
   ]
  },
  {
   "cell_type": "code",
   "execution_count": 4,
   "metadata": {},
   "outputs": [],
   "source": [
    "arr = {'data_base_dir': '../data','dataset_type': 'val','image_id': 2, 'epochs': '0100', 'use_edgelist': 0}\n",
    "data_base_dir = arr['data_base_dir']\n",
    "dataset_type = arr['dataset_type']\n",
    "image_id = arr['image_id']\n",
    "epochs = arr['epochs']\n",
    "use_edgelist = arr['use_edgelist']\n",
    "outputs_base_dir = 'outputs'"
   ]
  },
  {
   "cell_type": "code",
   "execution_count": 5,
   "metadata": {},
   "outputs": [
    {
     "name": "stdout",
     "output_type": "stream",
     "text": [
      "Populating the interactive namespace from numpy and matplotlib\n"
     ]
    },
    {
     "name": "stderr",
     "output_type": "stream",
     "text": [
      "C:\\Users\\Admin\\Anaconda3\\lib\\site-packages\\IPython\\core\\magics\\pylab.py:160: UserWarning: pylab import has clobbered these variables: ['log']\n",
      "`%matplotlib` prevents importing * from pylab and numpy\n",
      "  \"\\n`%matplotlib` prevents importing * from pylab and numpy\"\n"
     ]
    }
   ],
   "source": [
    "%pylab inline"
   ]
  },
  {
   "cell_type": "code",
   "execution_count": 6,
   "metadata": {},
   "outputs": [],
   "source": [
    "def segment_inference(original_image):\n",
    "    vis_result_save_dir = os.path.join(outputs_base_dir, 'visual_result', dataset_type)\n",
    "    trained_model_dir = os.path.join(outputs_base_dir, 'snapshot')\n",
    "    edgelist_result_dir = os.path.join(outputs_base_dir, 'edgelist')\n",
    "    model_path = os.path.join(trained_model_dir, 'mask_rcnn_sketchyscene_' + epochs + '.h5')\n",
    "    #print(model_path, \"model_path\")\n",
    "    os.makedirs(vis_result_save_dir, exist_ok=True)\n",
    "    config = SketchInferConfig()\n",
    "    #config.display()\n",
    "\n",
    "    # val/test dataset\n",
    "    #dataset_infer = SketchDataset(data_base_dir)\n",
    "   # dataset_infer.load_sketches(dataset_type)\n",
    "   # dataset_infer.prepare()\n",
    "\n",
    "    # Recreate the model in inference mode\n",
    "    model = modellib.MaskRCNN(mode=\"inference\", config=config, model_dir='', log_dir='')\n",
    "\n",
    "    # Load trained weights (fill in path to trained weights here)\n",
    "    assert model_path != \"\", \"Provide path to trained weights\"\n",
    "    #print(\"Loading weights from \", model_path)\n",
    "    model.load_weights(model_path, by_name=True)\n",
    "\n",
    "    #original_image, _, gt_class_id, gt_bbox, gt_mask, _ = \\\n",
    "      #  modellib.load_image_gt(dataset_infer, config, image_id - 1, use_mini_mask=False)\n",
    "\n",
    "    #log(\"original_image\", original_image)\n",
    "    #log(\"gt_class_id\", gt_class_id)\n",
    "    #log(\"gt_bbox\", gt_bbox)\n",
    "    #log(\"gt_mask\", gt_mask)\n",
    "    \n",
    "    #print(gt_class_id.shape)\n",
    "    #print(gt_bbox.shape)\n",
    "    #print(gt_mask.shape)\n",
    "    \n",
    "    #gt_seg_path = os.path.join(vis_result_save_dir, str(image_id) + '_gt.png')\n",
    "    \n",
    "    #Visualizing ground truth\n",
    "    #visualize.display_instances(original_image, gt_bbox, gt_mask, gt_class_id,\n",
    "                                #dataset_infer.class_names, title='Ground-Truth',\n",
    "                                #save_path=gt_seg_path, fix_color=True)\n",
    "\n",
    "    ## inference\n",
    "    results = model.detect([original_image], verbose=1)\n",
    "    #print(type(original_image))\n",
    "    r = results[0]\n",
    "    pred_boxes = r[\"rois\"]  # (nRoIs, (y1, x1, y2, x2))\n",
    "    print(pred_boxes)\n",
    "    pred_class_ids = r[\"class_ids\"]  # (nRoIs)\n",
    "    pred_scores = r[\"scores\"]  # (nRoIs)\n",
    "    pred_masks = r[\"masks\"]  # (768, 768, nRoIs)\n",
    "    #log(\"pred_boxes\", pred_boxes)\n",
    "    #log(\"pred_masks\", pred_masks)\n",
    "\n",
    "    #if config.IGNORE_BG:\n",
    "        # Use original_image(768, 768, 3) {0, 255} to filter pred_masks\n",
    "        #pred_masks = np.transpose(pred_masks, (2, 0, 1))  # (nRoIs, 768, 768)\n",
    "       # bin_input = original_image[:, :, 0] == 255\n",
    "       # pred_masks[:, bin_input[:, :]] = 0  # (nRoIs, 768, 768)\n",
    "       # pred_masks = np.transpose(pred_masks, (1, 2, 0))  # (768, 768, nRoIs)\n",
    "\n",
    "    # refine pred_masks(768, 768, nRoIs) with edge-list\n",
    "    if use_edgelist:\n",
    "        refined_pred_masks = \\\n",
    "            refine_mask_with_edgelist(image_id, dataset_type, data_base_dir, edgelist_result_dir,\n",
    "                                     pred_masks.copy(), pred_boxes)\n",
    "\n",
    "    # caculating AP\n",
    "    #iou_thresholds = np.linspace(.5, 0.95, np.round((0.95 - .5) / .05) + 1, endpoint=True)\n",
    "    #APs = np.zeros([len(iou_thresholds)], dtype=np.float32)\n",
    "    #APs_edg = np.zeros([len(iou_thresholds)], dtype=np.float32)\n",
    "    #for i in range(len(iou_thresholds)):\n",
    "        #iouThr = iou_thresholds[i]\n",
    "    #    AP, precisions, recalls, overlaps = \\\n",
    "      #      utils.compute_ap(gt_bbox, gt_class_id, gt_mask,\n",
    "       #                      pred_boxes, pred_class_ids, pred_scores, pred_masks,\n",
    "       #                      iou_threshold=iouThr)\n",
    "       # APs[i] = AP\n",
    "\n",
    "      #  if use_edgelist:\n",
    "        #    AP_edg, precisions, recalls, overlaps = \\\n",
    "        #        utils.compute_ap(gt_bbox, gt_class_id, gt_mask,\n",
    "          #                       pred_boxes, pred_class_ids, pred_scores, refined_pred_masks,\n",
    "           #                      iou_threshold=iouThr)\n",
    "            #APs_edg[i] = AP_edg\n",
    "\n",
    "    #mAP = np.mean(APs)\n",
    "   # mAP_edg = np.mean(APs_edg)\n",
    "    #print('APs', APs)\n",
    "   # print('mAP', mAP)\n",
    "    #print('APs_edg', APs_edg)\n",
    "    #print('mAP_edg', mAP_edg)\n",
    "\n",
    "    # save visual results\n",
    "    #visual_seg_path = os.path.join(vis_result_save_dir, str(image_id) + '_seg.png')\n",
    "    #visualize.display_instances(original_image, pred_boxes, pred_masks, pred_class_ids,\n",
    "                                #dataset_infer.class_names, pred_scores, title='Normal result',\n",
    "                               # save_path=visual_seg_path, fix_color=True)\n",
    "\n",
    "    if use_edgelist:\n",
    "        visual_seg_edg_path = os.path.join(vis_result_save_dir, str(image_id) + '_seg_edgelist.png')\n",
    "        visualize.display_instances(original_image, pred_boxes, refined_pred_masks, pred_class_ids,\n",
    "                                    dataset_infer.class_names, pred_scores, title='Result with edgelist',\n",
    "                                    save_path=visual_seg_edg_path, fix_color=True)\n",
    "    return pred_boxes"
   ]
  },
  {
   "cell_type": "code",
   "execution_count": 7,
   "metadata": {},
   "outputs": [],
   "source": [
    "#segment_inference()"
   ]
  },
  {
   "cell_type": "markdown",
   "metadata": {},
   "source": [
    "## Building 2 object dataset"
   ]
  },
  {
   "cell_type": "code",
   "execution_count": 8,
   "metadata": {},
   "outputs": [
    {
     "name": "stdout",
     "output_type": "stream",
     "text": [
      "Populating the interactive namespace from numpy and matplotlib\n"
     ]
    },
    {
     "name": "stderr",
     "output_type": "stream",
     "text": [
      "C:\\Users\\Admin\\Anaconda3\\lib\\site-packages\\IPython\\core\\magics\\pylab.py:160: UserWarning: pylab import has clobbered these variables: ['__version__', 'random', 'subplots', 'array', 'copy', 'partition', 'uniform', 'pad']\n",
      "`%matplotlib` prevents importing * from pylab and numpy\n",
      "  \"\\n`%matplotlib` prevents importing * from pylab and numpy\"\n"
     ]
    }
   ],
   "source": [
    "from pathlib import Path\n",
    "from fastai.vision import *\n",
    "import cv2\n",
    "import wget\n",
    "%pylab inline"
   ]
  },
  {
   "cell_type": "code",
   "execution_count": 9,
   "metadata": {},
   "outputs": [],
   "source": [
    "data = ['house', 'mountain', 'fence', 'sun', 'bird']\n",
    "#for item in data:\n",
    "   # if not os.path.exists(item + '.npy'):\n",
    "      #  url = 'https://storage.googleapis.com/quickdraw_dataset/full/numpy_bitmap/' +item +'.npy'\n",
    "      #  wget.download(url)"
   ]
  },
  {
   "cell_type": "code",
   "execution_count": 10,
   "metadata": {},
   "outputs": [],
   "source": [
    "path=Path('../data')"
   ]
  },
  {
   "cell_type": "code",
   "execution_count": 11,
   "metadata": {},
   "outputs": [],
   "source": [
    "all_data = []\n",
    "for type in data:\n",
    "    data_file = type + '.npy'\n",
    "    all_data.append(np.load(path/data_file))"
   ]
  },
  {
   "cell_type": "code",
   "execution_count": 12,
   "metadata": {},
   "outputs": [],
   "source": [
    "start = 0\n",
    "num_examples = 100\n",
    "label_df=[]\n",
    "image_df = np.zeros((num_examples,768,768,3))\n",
    "flat_img_df = np.zeros((num_examples,768,768,1))\n",
    "\n",
    "while start < num_examples :\n",
    "    two_classes = np.sort(np.random.choice(range(5), 2))\n",
    "    temp1 = all_data[two_classes[0]]\n",
    "    temp2 = all_data[two_classes[1]]\n",
    "            \n",
    "    img_generated = np.zeros((768,768)) #A big canvas\n",
    "    \n",
    "    random_index = np.random.randint(0,10000)\n",
    "    pic_1 = temp1[random_index,:]\n",
    "\n",
    "    random_index = np.random.randint(0,10000)\n",
    "    pic_2 = temp2[random_index,:]\n",
    "    pic_1 = cv2.resize(pic_1.reshape(28,28),(384,384))\n",
    "    pic_2 = cv2.resize(pic_2.reshape(28,28),(384,384))\n",
    "    random_chance = np.random.randint(0,2)\n",
    "    if(random_chance == 0):\n",
    "        img_generated[192:192+384,0:384] = pic_1.reshape(384,384)\n",
    "        img_generated[192:192+384,384:768] = pic_2.reshape(384,384)\n",
    "    else:\n",
    "        img_generated[192:192+384,0:384]  = pic_2.reshape(384,384)\n",
    "        img_generated[192:192+384,384:768] = pic_1.reshape(384,384)\n",
    "    flat_img_df[start] = img_generated.reshape(768,768,1)\n",
    "    an_image = np.reshape(img_generated, (768, 768,-1))\n",
    "    an_image = np.broadcast_to(an_image,(768,768,3))\n",
    "    #hist(an_image.ravel(), 100);\n",
    "    #grid(1)\n",
    "    #plt.show()\n",
    "    cv2.imwrite(str(start)+'.png', an_image)\n",
    "    image_df[start] = an_image\n",
    "    \n",
    "    label_df.append(str(two_classes[0])+str(two_classes[1]))\n",
    "    start += 1"
   ]
  },
  {
   "cell_type": "code",
   "execution_count": 13,
   "metadata": {},
   "outputs": [
    {
     "data": {
      "text/plain": [
       "(100, 768, 768, 3)"
      ]
     },
     "execution_count": 13,
     "metadata": {},
     "output_type": "execute_result"
    }
   ],
   "source": [
    "image_df.shape"
   ]
  },
  {
   "cell_type": "code",
   "execution_count": 14,
   "metadata": {},
   "outputs": [
    {
     "name": "stdout",
     "output_type": "stream",
     "text": [
      "WARNING:tensorflow:From C:\\Users\\Admin\\Anaconda3\\lib\\site-packages\\keras\\backend\\tensorflow_backend.py:442: The name tf.placeholder is deprecated. Please use tf.compat.v1.placeholder instead.\n",
      "\n",
      "WARNING:tensorflow:From C:\\Users\\Admin\\Anaconda3\\lib\\site-packages\\keras\\backend\\tensorflow_backend.py:58: The name tf.get_default_graph is deprecated. Please use tf.compat.v1.get_default_graph instead.\n",
      "\n",
      "WARNING:tensorflow:From C:\\Users\\Admin\\Anaconda3\\lib\\site-packages\\keras\\backend\\tensorflow_backend.py:3543: The name tf.random_uniform is deprecated. Please use tf.random.uniform instead.\n",
      "\n",
      "WARNING:tensorflow:From C:\\Users\\Admin\\Anaconda3\\lib\\site-packages\\keras\\backend\\tensorflow_backend.py:3386: The name tf.nn.max_pool is deprecated. Please use tf.nn.max_pool2d instead.\n",
      "\n",
      "WARNING:tensorflow:From C:\\Users\\Admin\\Anaconda3\\lib\\site-packages\\keras\\backend\\tensorflow_backend.py:1768: The name tf.image.resize_nearest_neighbor is deprecated. Please use tf.compat.v1.image.resize_nearest_neighbor instead.\n",
      "\n",
      "WARNING:tensorflow:From C:\\Users\\Admin\\Anaconda3\\lib\\site-packages\\keras\\backend\\tensorflow_backend.py:1154: calling reduce_max_v1 (from tensorflow.python.ops.math_ops) with keep_dims is deprecated and will be removed in a future version.\n",
      "Instructions for updating:\n",
      "keep_dims is deprecated, use keepdims instead\n",
      "WARNING:tensorflow:From C:\\Users\\Admin\\Anaconda3\\lib\\site-packages\\keras\\backend\\tensorflow_backend.py:1188: calling reduce_sum_v1 (from tensorflow.python.ops.math_ops) with keep_dims is deprecated and will be removed in a future version.\n",
      "Instructions for updating:\n",
      "keep_dims is deprecated, use keepdims instead\n",
      "WARNING:tensorflow:From libs\\model.py:306: The name tf.log is deprecated. Please use tf.math.log instead.\n",
      "\n",
      "WARNING:tensorflow:From libs\\model.py:360: add_dispatch_support.<locals>.wrapper (from tensorflow.python.ops.array_ops) is deprecated and will be removed in a future version.\n",
      "Instructions for updating:\n",
      "Use tf.where in 2.0, which has the same broadcast rule as np.where\n",
      "WARNING:tensorflow:From libs\\model.py:384: calling crop_and_resize_v1 (from tensorflow.python.ops.image_ops_impl) with box_ind is deprecated and will be removed in a future version.\n",
      "Instructions for updating:\n",
      "box_ind is deprecated, use box_indices instead\n",
      "WARNING:tensorflow:From libs\\model.py:702: The name tf.rint is deprecated. Please use tf.math.rint instead.\n",
      "\n",
      "WARNING:tensorflow:From libs\\model.py:702: to_int32 (from tensorflow.python.ops.math_ops) is deprecated and will be removed in a future version.\n",
      "Instructions for updating:\n",
      "Use `tf.cast` instead.\n",
      "WARNING:tensorflow:From libs\\model.py:711: The name tf.sets.set_intersection is deprecated. Please use tf.sets.intersection instead.\n",
      "\n",
      "WARNING:tensorflow:From libs\\model.py:728: to_float (from tensorflow.python.ops.math_ops) is deprecated and will be removed in a future version.\n",
      "Instructions for updating:\n",
      "Use `tf.cast` instead.\n",
      "Processing 1 images\n",
      "image                    shape: (768, 768, 3)         min:    0.00000  max:  255.00000\n",
      "molded_images            shape: (1, 768, 768, 3)      min: -123.70000  max:  151.10000\n",
      "image_metas              shape: (1, 55)               min:    0.00000  max:  768.00000\n",
      "[[217  19 513 323]]\n",
      "Processing 1 images\n",
      "image                    shape: (768, 768, 3)         min:    0.00000  max:  255.00000\n",
      "molded_images            shape: (1, 768, 768, 3)      min: -123.70000  max:  151.10000\n",
      "image_metas              shape: (1, 55)               min:    0.00000  max:  768.00000\n",
      "[[177 389 569 753]]\n",
      "Processing 1 images\n",
      "image                    shape: (768, 768, 3)         min:    0.00000  max:  255.00000\n",
      "molded_images            shape: (1, 768, 768, 3)      min: -123.70000  max:  151.10000\n",
      "image_metas              shape: (1, 55)               min:    0.00000  max:  768.00000\n",
      "[]\n",
      "Processing 1 images\n",
      "image                    shape: (768, 768, 3)         min:    0.00000  max:  255.00000\n",
      "molded_images            shape: (1, 768, 768, 3)      min: -123.70000  max:  151.10000\n",
      "image_metas              shape: (1, 55)               min:    0.00000  max:  768.00000\n",
      "[[206 387 519 740]]\n"
     ]
    },
    {
     "ename": "InternalError",
     "evalue": "2 root error(s) found.\n  (0) Internal: Dst tensor is not initialized.\n\t [[{{node _arg_Placeholder_3418_0_658}}]]\n\t [[Assign_3421/_14335]]\n  (1) Internal: Dst tensor is not initialized.\n\t [[{{node _arg_Placeholder_3418_0_658}}]]\n0 successful operations.\n0 derived errors ignored.",
     "output_type": "error",
     "traceback": [
      "\u001b[1;31m---------------------------------------------------------------------------\u001b[0m",
      "\u001b[1;31mInternalError\u001b[0m                             Traceback (most recent call last)",
      "\u001b[1;32m~\\Anaconda3\\lib\\site-packages\\tensorflow\\python\\client\\session.py\u001b[0m in \u001b[0;36m_do_call\u001b[1;34m(self, fn, *args)\u001b[0m\n\u001b[0;32m   1355\u001b[0m     \u001b[1;32mtry\u001b[0m\u001b[1;33m:\u001b[0m\u001b[1;33m\u001b[0m\u001b[1;33m\u001b[0m\u001b[0m\n\u001b[1;32m-> 1356\u001b[1;33m       \u001b[1;32mreturn\u001b[0m \u001b[0mfn\u001b[0m\u001b[1;33m(\u001b[0m\u001b[1;33m*\u001b[0m\u001b[0margs\u001b[0m\u001b[1;33m)\u001b[0m\u001b[1;33m\u001b[0m\u001b[1;33m\u001b[0m\u001b[0m\n\u001b[0m\u001b[0;32m   1357\u001b[0m     \u001b[1;32mexcept\u001b[0m \u001b[0merrors\u001b[0m\u001b[1;33m.\u001b[0m\u001b[0mOpError\u001b[0m \u001b[1;32mas\u001b[0m \u001b[0me\u001b[0m\u001b[1;33m:\u001b[0m\u001b[1;33m\u001b[0m\u001b[1;33m\u001b[0m\u001b[0m\n",
      "\u001b[1;32m~\\Anaconda3\\lib\\site-packages\\tensorflow\\python\\client\\session.py\u001b[0m in \u001b[0;36m_run_fn\u001b[1;34m(feed_dict, fetch_list, target_list, options, run_metadata)\u001b[0m\n\u001b[0;32m   1340\u001b[0m       return self._call_tf_sessionrun(\n\u001b[1;32m-> 1341\u001b[1;33m           options, feed_dict, fetch_list, target_list, run_metadata)\n\u001b[0m\u001b[0;32m   1342\u001b[0m \u001b[1;33m\u001b[0m\u001b[0m\n",
      "\u001b[1;32m~\\Anaconda3\\lib\\site-packages\\tensorflow\\python\\client\\session.py\u001b[0m in \u001b[0;36m_call_tf_sessionrun\u001b[1;34m(self, options, feed_dict, fetch_list, target_list, run_metadata)\u001b[0m\n\u001b[0;32m   1428\u001b[0m         \u001b[0mself\u001b[0m\u001b[1;33m.\u001b[0m\u001b[0m_session\u001b[0m\u001b[1;33m,\u001b[0m \u001b[0moptions\u001b[0m\u001b[1;33m,\u001b[0m \u001b[0mfeed_dict\u001b[0m\u001b[1;33m,\u001b[0m \u001b[0mfetch_list\u001b[0m\u001b[1;33m,\u001b[0m \u001b[0mtarget_list\u001b[0m\u001b[1;33m,\u001b[0m\u001b[1;33m\u001b[0m\u001b[1;33m\u001b[0m\u001b[0m\n\u001b[1;32m-> 1429\u001b[1;33m         run_metadata)\n\u001b[0m\u001b[0;32m   1430\u001b[0m \u001b[1;33m\u001b[0m\u001b[0m\n",
      "\u001b[1;31mInternalError\u001b[0m: 2 root error(s) found.\n  (0) Internal: Dst tensor is not initialized.\n\t [[{{node _arg_Placeholder_3418_0_658}}]]\n\t [[Assign_3421/_14335]]\n  (1) Internal: Dst tensor is not initialized.\n\t [[{{node _arg_Placeholder_3418_0_658}}]]\n0 successful operations.\n0 derived errors ignored.",
      "\nDuring handling of the above exception, another exception occurred:\n",
      "\u001b[1;31mInternalError\u001b[0m                             Traceback (most recent call last)",
      "\u001b[1;32m<ipython-input-14-5711496b6e5e>\u001b[0m in \u001b[0;36m<module>\u001b[1;34m\u001b[0m\n\u001b[0;32m      2\u001b[0m     \u001b[0mtest_image_index\u001b[0m \u001b[1;33m=\u001b[0m \u001b[0mz\u001b[0m\u001b[1;33m\u001b[0m\u001b[1;33m\u001b[0m\u001b[0m\n\u001b[0;32m      3\u001b[0m     \u001b[0mimshow\u001b[0m\u001b[1;33m(\u001b[0m\u001b[0mflat_img_df\u001b[0m\u001b[1;33m[\u001b[0m\u001b[0mtest_image_index\u001b[0m\u001b[1;33m]\u001b[0m\u001b[1;33m.\u001b[0m\u001b[0mreshape\u001b[0m\u001b[1;33m(\u001b[0m\u001b[1;36m768\u001b[0m\u001b[1;33m,\u001b[0m\u001b[1;36m768\u001b[0m\u001b[1;33m)\u001b[0m\u001b[1;33m)\u001b[0m\u001b[1;33m\u001b[0m\u001b[1;33m\u001b[0m\u001b[0m\n\u001b[1;32m----> 4\u001b[1;33m     \u001b[0mboxes\u001b[0m \u001b[1;33m=\u001b[0m \u001b[0msegment_inference\u001b[0m\u001b[1;33m(\u001b[0m\u001b[0mimage_df\u001b[0m\u001b[1;33m[\u001b[0m\u001b[0mtest_image_index\u001b[0m\u001b[1;33m]\u001b[0m\u001b[1;33m)\u001b[0m\u001b[1;33m\u001b[0m\u001b[1;33m\u001b[0m\u001b[0m\n\u001b[0m\u001b[0;32m      5\u001b[0m     \u001b[1;32mif\u001b[0m\u001b[1;33m(\u001b[0m\u001b[0mlen\u001b[0m\u001b[1;33m(\u001b[0m\u001b[0mboxes\u001b[0m\u001b[1;33m)\u001b[0m \u001b[1;33m>\u001b[0m \u001b[1;36m1\u001b[0m\u001b[1;33m)\u001b[0m\u001b[1;33m:\u001b[0m\u001b[1;33m\u001b[0m\u001b[1;33m\u001b[0m\u001b[0m\n\u001b[0;32m      6\u001b[0m         \u001b[1;32mfor\u001b[0m \u001b[0mi\u001b[0m \u001b[1;32min\u001b[0m \u001b[0mboxes\u001b[0m\u001b[1;33m:\u001b[0m\u001b[1;33m\u001b[0m\u001b[1;33m\u001b[0m\u001b[0m\n",
      "\u001b[1;32m<ipython-input-6-c1c250886978>\u001b[0m in \u001b[0;36msegment_inference\u001b[1;34m(original_image)\u001b[0m\n\u001b[0;32m     20\u001b[0m     \u001b[1;32massert\u001b[0m \u001b[0mmodel_path\u001b[0m \u001b[1;33m!=\u001b[0m \u001b[1;34m\"\"\u001b[0m\u001b[1;33m,\u001b[0m \u001b[1;34m\"Provide path to trained weights\"\u001b[0m\u001b[1;33m\u001b[0m\u001b[1;33m\u001b[0m\u001b[0m\n\u001b[0;32m     21\u001b[0m     \u001b[1;31m#print(\"Loading weights from \", model_path)\u001b[0m\u001b[1;33m\u001b[0m\u001b[1;33m\u001b[0m\u001b[1;33m\u001b[0m\u001b[0m\n\u001b[1;32m---> 22\u001b[1;33m     \u001b[0mmodel\u001b[0m\u001b[1;33m.\u001b[0m\u001b[0mload_weights\u001b[0m\u001b[1;33m(\u001b[0m\u001b[0mmodel_path\u001b[0m\u001b[1;33m,\u001b[0m \u001b[0mby_name\u001b[0m\u001b[1;33m=\u001b[0m\u001b[1;32mTrue\u001b[0m\u001b[1;33m)\u001b[0m\u001b[1;33m\u001b[0m\u001b[1;33m\u001b[0m\u001b[0m\n\u001b[0m\u001b[0;32m     23\u001b[0m \u001b[1;33m\u001b[0m\u001b[0m\n\u001b[0;32m     24\u001b[0m     \u001b[1;31m#original_image, _, gt_class_id, gt_bbox, gt_mask, _ = \\\u001b[0m\u001b[1;33m\u001b[0m\u001b[1;33m\u001b[0m\u001b[1;33m\u001b[0m\u001b[0m\n",
      "\u001b[1;32m~\\NN_Embed\\SketchyScene\\Instance_Segmentation\\libs\\model.py\u001b[0m in \u001b[0;36mload_weights\u001b[1;34m(self, filepath, by_name, exclude)\u001b[0m\n\u001b[0;32m   2082\u001b[0m \u001b[1;33m\u001b[0m\u001b[0m\n\u001b[0;32m   2083\u001b[0m         \u001b[1;32mif\u001b[0m \u001b[0mby_name\u001b[0m\u001b[1;33m:\u001b[0m\u001b[1;33m\u001b[0m\u001b[1;33m\u001b[0m\u001b[0m\n\u001b[1;32m-> 2084\u001b[1;33m             \u001b[0mtopology\u001b[0m\u001b[1;33m.\u001b[0m\u001b[0mload_weights_from_hdf5_group_by_name\u001b[0m\u001b[1;33m(\u001b[0m\u001b[0mf\u001b[0m\u001b[1;33m,\u001b[0m \u001b[0mlayers\u001b[0m\u001b[1;33m)\u001b[0m\u001b[1;33m\u001b[0m\u001b[1;33m\u001b[0m\u001b[0m\n\u001b[0m\u001b[0;32m   2085\u001b[0m         \u001b[1;32melse\u001b[0m\u001b[1;33m:\u001b[0m\u001b[1;33m\u001b[0m\u001b[1;33m\u001b[0m\u001b[0m\n\u001b[0;32m   2086\u001b[0m             \u001b[0mtopology\u001b[0m\u001b[1;33m.\u001b[0m\u001b[0mload_weights_from_hdf5_group\u001b[0m\u001b[1;33m(\u001b[0m\u001b[0mf\u001b[0m\u001b[1;33m,\u001b[0m \u001b[0mlayers\u001b[0m\u001b[1;33m)\u001b[0m\u001b[1;33m\u001b[0m\u001b[1;33m\u001b[0m\u001b[0m\n",
      "\u001b[1;32m~\\Anaconda3\\lib\\site-packages\\keras\\engine\\topology.py\u001b[0m in \u001b[0;36mload_weights_from_hdf5_group_by_name\u001b[1;34m(f, layers)\u001b[0m\n\u001b[0;32m   3156\u001b[0m                 weight_value_tuples.append((symbolic_weights[i],\n\u001b[0;32m   3157\u001b[0m                                             weight_values[i]))\n\u001b[1;32m-> 3158\u001b[1;33m     \u001b[0mK\u001b[0m\u001b[1;33m.\u001b[0m\u001b[0mbatch_set_value\u001b[0m\u001b[1;33m(\u001b[0m\u001b[0mweight_value_tuples\u001b[0m\u001b[1;33m)\u001b[0m\u001b[1;33m\u001b[0m\u001b[1;33m\u001b[0m\u001b[0m\n\u001b[0m",
      "\u001b[1;32m~\\Anaconda3\\lib\\site-packages\\keras\\backend\\tensorflow_backend.py\u001b[0m in \u001b[0;36mbatch_set_value\u001b[1;34m(tuples)\u001b[0m\n\u001b[0;32m   2191\u001b[0m             \u001b[0massign_ops\u001b[0m\u001b[1;33m.\u001b[0m\u001b[0mappend\u001b[0m\u001b[1;33m(\u001b[0m\u001b[0massign_op\u001b[0m\u001b[1;33m)\u001b[0m\u001b[1;33m\u001b[0m\u001b[1;33m\u001b[0m\u001b[0m\n\u001b[0;32m   2192\u001b[0m             \u001b[0mfeed_dict\u001b[0m\u001b[1;33m[\u001b[0m\u001b[0massign_placeholder\u001b[0m\u001b[1;33m]\u001b[0m \u001b[1;33m=\u001b[0m \u001b[0mvalue\u001b[0m\u001b[1;33m\u001b[0m\u001b[1;33m\u001b[0m\u001b[0m\n\u001b[1;32m-> 2193\u001b[1;33m         \u001b[0mget_session\u001b[0m\u001b[1;33m(\u001b[0m\u001b[1;33m)\u001b[0m\u001b[1;33m.\u001b[0m\u001b[0mrun\u001b[0m\u001b[1;33m(\u001b[0m\u001b[0massign_ops\u001b[0m\u001b[1;33m,\u001b[0m \u001b[0mfeed_dict\u001b[0m\u001b[1;33m=\u001b[0m\u001b[0mfeed_dict\u001b[0m\u001b[1;33m)\u001b[0m\u001b[1;33m\u001b[0m\u001b[1;33m\u001b[0m\u001b[0m\n\u001b[0m\u001b[0;32m   2194\u001b[0m \u001b[1;33m\u001b[0m\u001b[0m\n\u001b[0;32m   2195\u001b[0m \u001b[1;33m\u001b[0m\u001b[0m\n",
      "\u001b[1;32m~\\Anaconda3\\lib\\site-packages\\tensorflow\\python\\client\\session.py\u001b[0m in \u001b[0;36mrun\u001b[1;34m(self, fetches, feed_dict, options, run_metadata)\u001b[0m\n\u001b[0;32m    948\u001b[0m     \u001b[1;32mtry\u001b[0m\u001b[1;33m:\u001b[0m\u001b[1;33m\u001b[0m\u001b[1;33m\u001b[0m\u001b[0m\n\u001b[0;32m    949\u001b[0m       result = self._run(None, fetches, feed_dict, options_ptr,\n\u001b[1;32m--> 950\u001b[1;33m                          run_metadata_ptr)\n\u001b[0m\u001b[0;32m    951\u001b[0m       \u001b[1;32mif\u001b[0m \u001b[0mrun_metadata\u001b[0m\u001b[1;33m:\u001b[0m\u001b[1;33m\u001b[0m\u001b[1;33m\u001b[0m\u001b[0m\n\u001b[0;32m    952\u001b[0m         \u001b[0mproto_data\u001b[0m \u001b[1;33m=\u001b[0m \u001b[0mtf_session\u001b[0m\u001b[1;33m.\u001b[0m\u001b[0mTF_GetBuffer\u001b[0m\u001b[1;33m(\u001b[0m\u001b[0mrun_metadata_ptr\u001b[0m\u001b[1;33m)\u001b[0m\u001b[1;33m\u001b[0m\u001b[1;33m\u001b[0m\u001b[0m\n",
      "\u001b[1;32m~\\Anaconda3\\lib\\site-packages\\tensorflow\\python\\client\\session.py\u001b[0m in \u001b[0;36m_run\u001b[1;34m(self, handle, fetches, feed_dict, options, run_metadata)\u001b[0m\n\u001b[0;32m   1171\u001b[0m     \u001b[1;32mif\u001b[0m \u001b[0mfinal_fetches\u001b[0m \u001b[1;32mor\u001b[0m \u001b[0mfinal_targets\u001b[0m \u001b[1;32mor\u001b[0m \u001b[1;33m(\u001b[0m\u001b[0mhandle\u001b[0m \u001b[1;32mand\u001b[0m \u001b[0mfeed_dict_tensor\u001b[0m\u001b[1;33m)\u001b[0m\u001b[1;33m:\u001b[0m\u001b[1;33m\u001b[0m\u001b[1;33m\u001b[0m\u001b[0m\n\u001b[0;32m   1172\u001b[0m       results = self._do_run(handle, final_targets, final_fetches,\n\u001b[1;32m-> 1173\u001b[1;33m                              feed_dict_tensor, options, run_metadata)\n\u001b[0m\u001b[0;32m   1174\u001b[0m     \u001b[1;32melse\u001b[0m\u001b[1;33m:\u001b[0m\u001b[1;33m\u001b[0m\u001b[1;33m\u001b[0m\u001b[0m\n\u001b[0;32m   1175\u001b[0m       \u001b[0mresults\u001b[0m \u001b[1;33m=\u001b[0m \u001b[1;33m[\u001b[0m\u001b[1;33m]\u001b[0m\u001b[1;33m\u001b[0m\u001b[1;33m\u001b[0m\u001b[0m\n",
      "\u001b[1;32m~\\Anaconda3\\lib\\site-packages\\tensorflow\\python\\client\\session.py\u001b[0m in \u001b[0;36m_do_run\u001b[1;34m(self, handle, target_list, fetch_list, feed_dict, options, run_metadata)\u001b[0m\n\u001b[0;32m   1348\u001b[0m     \u001b[1;32mif\u001b[0m \u001b[0mhandle\u001b[0m \u001b[1;32mis\u001b[0m \u001b[1;32mNone\u001b[0m\u001b[1;33m:\u001b[0m\u001b[1;33m\u001b[0m\u001b[1;33m\u001b[0m\u001b[0m\n\u001b[0;32m   1349\u001b[0m       return self._do_call(_run_fn, feeds, fetches, targets, options,\n\u001b[1;32m-> 1350\u001b[1;33m                            run_metadata)\n\u001b[0m\u001b[0;32m   1351\u001b[0m     \u001b[1;32melse\u001b[0m\u001b[1;33m:\u001b[0m\u001b[1;33m\u001b[0m\u001b[1;33m\u001b[0m\u001b[0m\n\u001b[0;32m   1352\u001b[0m       \u001b[1;32mreturn\u001b[0m \u001b[0mself\u001b[0m\u001b[1;33m.\u001b[0m\u001b[0m_do_call\u001b[0m\u001b[1;33m(\u001b[0m\u001b[0m_prun_fn\u001b[0m\u001b[1;33m,\u001b[0m \u001b[0mhandle\u001b[0m\u001b[1;33m,\u001b[0m \u001b[0mfeeds\u001b[0m\u001b[1;33m,\u001b[0m \u001b[0mfetches\u001b[0m\u001b[1;33m)\u001b[0m\u001b[1;33m\u001b[0m\u001b[1;33m\u001b[0m\u001b[0m\n",
      "\u001b[1;32m~\\Anaconda3\\lib\\site-packages\\tensorflow\\python\\client\\session.py\u001b[0m in \u001b[0;36m_do_call\u001b[1;34m(self, fn, *args)\u001b[0m\n\u001b[0;32m   1368\u001b[0m           \u001b[1;32mpass\u001b[0m\u001b[1;33m\u001b[0m\u001b[1;33m\u001b[0m\u001b[0m\n\u001b[0;32m   1369\u001b[0m       \u001b[0mmessage\u001b[0m \u001b[1;33m=\u001b[0m \u001b[0merror_interpolation\u001b[0m\u001b[1;33m.\u001b[0m\u001b[0minterpolate\u001b[0m\u001b[1;33m(\u001b[0m\u001b[0mmessage\u001b[0m\u001b[1;33m,\u001b[0m \u001b[0mself\u001b[0m\u001b[1;33m.\u001b[0m\u001b[0m_graph\u001b[0m\u001b[1;33m)\u001b[0m\u001b[1;33m\u001b[0m\u001b[1;33m\u001b[0m\u001b[0m\n\u001b[1;32m-> 1370\u001b[1;33m       \u001b[1;32mraise\u001b[0m \u001b[0mtype\u001b[0m\u001b[1;33m(\u001b[0m\u001b[0me\u001b[0m\u001b[1;33m)\u001b[0m\u001b[1;33m(\u001b[0m\u001b[0mnode_def\u001b[0m\u001b[1;33m,\u001b[0m \u001b[0mop\u001b[0m\u001b[1;33m,\u001b[0m \u001b[0mmessage\u001b[0m\u001b[1;33m)\u001b[0m\u001b[1;33m\u001b[0m\u001b[1;33m\u001b[0m\u001b[0m\n\u001b[0m\u001b[0;32m   1371\u001b[0m \u001b[1;33m\u001b[0m\u001b[0m\n\u001b[0;32m   1372\u001b[0m   \u001b[1;32mdef\u001b[0m \u001b[0m_extend_graph\u001b[0m\u001b[1;33m(\u001b[0m\u001b[0mself\u001b[0m\u001b[1;33m)\u001b[0m\u001b[1;33m:\u001b[0m\u001b[1;33m\u001b[0m\u001b[1;33m\u001b[0m\u001b[0m\n",
      "\u001b[1;31mInternalError\u001b[0m: 2 root error(s) found.\n  (0) Internal: Dst tensor is not initialized.\n\t [[{{node _arg_Placeholder_3418_0_658}}]]\n\t [[Assign_3421/_14335]]\n  (1) Internal: Dst tensor is not initialized.\n\t [[{{node _arg_Placeholder_3418_0_658}}]]\n0 successful operations.\n0 derived errors ignored."
     ]
    },
    {
     "data": {
      "image/png": "[encoded data removed]",
      "text/plain": [
       "<Figure size 432x288 with 1 Axes>"
      ]
     },
     "metadata": {
      "needs_background": "light"
     },
     "output_type": "display_data"
    }
   ],
   "source": [
    "for z in range(100):\n",
    "    test_image_index = z\n",
    "    imshow(flat_img_df[test_image_index].reshape(768,768))\n",
    "    boxes = segment_inference(image_df[test_image_index])\n",
    "    if(len(boxes) > 1):\n",
    "        for i in boxes:\n",
    "            imshow(flat_img_df[test_image_index].reshape(768,768)[i[0]:i[2],i[1]:i[3]])\n",
    "            plt.show()"
   ]
  }
 ],
 "metadata": {
  "kernelspec": {
   "display_name": "Python 3",
   "language": "python",
   "name": "python3"
  },
  "language_info": {
   "codemirror_mode": {
    "name": "ipython",
    "version": 3
   },
   "file_extension": ".py",
   "mimetype": "text/x-python",
   "name": "python",
   "nbconvert_exporter": "python",
   "pygments_lexer": "ipython3",
   "version": "3.6.8"
  }
 },
 "nbformat": 4,
 "nbformat_minor": 2
}

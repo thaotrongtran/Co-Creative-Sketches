{
 "cells": [
  {
   "cell_type": "code",
   "execution_count": 1,
   "metadata": {},
   "outputs": [],
   "source": [
    "import numpy as np\n",
    "import wget"
   ]
  },
  {
   "cell_type": "code",
   "execution_count": 2,
   "metadata": {},
   "outputs": [],
   "source": [
    "#data = ['house','tree', 'bicycle']\n",
    "#for item in data:\n",
    "#    url = 'https://storage.googleapis.com/quickdraw_dataset/full/numpy_bitmap/' +item +'.npy'\n",
    "#    wget.download(url)"
   ]
  },
  {
   "cell_type": "code",
   "execution_count": 3,
   "metadata": {},
   "outputs": [
    {
     "name": "stdout",
     "output_type": "stream",
     "text": [
      "Populating the interactive namespace from numpy and matplotlib\n"
     ]
    }
   ],
   "source": [
    "#ipython magic numpy and matplotlib import function\n",
    "%pylab inline "
   ]
  },
  {
   "cell_type": "code",
   "execution_count": 4,
   "metadata": {},
   "outputs": [],
   "source": [
    "house_images = np.load('house.npy')\n",
    "tree_images = np.load('tree.npy')\n",
    "bicycle_images = np.load('bicycle.npy')\n"
   ]
  },
  {
   "cell_type": "code",
   "execution_count": 5,
   "metadata": {},
   "outputs": [],
   "source": [
    "tree_house_df = np.zeros((2500,64,64,1))\n",
    "for i in range(2500):\n",
    "    img_generated = np.zeros((64,64))\n",
    "    random_index = random.randint(0,5000)\n",
    "    house_images_copy = house_images[random_index,:]/255\n",
    "    tree_images_copy = tree_images[random_index,:]/255\n",
    "    if random.random() < 0.5:\n",
    "        img_generated[17:45,0:28] = house_images_copy.reshape((28, 28))\n",
    "        img_generated[17:45,32:60] = tree_images_copy.reshape((28, 28))\n",
    "    else:\n",
    "        img_generated[17:45,0:28] = tree_images_copy.reshape((28, 28))\n",
    "        img_generated[17:45,32:60] = house_images_copy.reshape((28, 28))\n",
    "    tree_house_df[i] = img_generated.reshape((64,64,1))"
   ]
  },
  {
   "cell_type": "code",
   "execution_count": 6,
   "metadata": {},
   "outputs": [
    {
     "data": {
      "text/plain": [
       "(2500, 64, 64, 1)"
      ]
     },
     "execution_count": 6,
     "metadata": {},
     "output_type": "execute_result"
    }
   ],
   "source": [
    "tree_house_df.shape"
   ]
  },
  {
   "cell_type": "code",
   "execution_count": 8,
   "metadata": {},
   "outputs": [
    {
     "data": {
      "text/plain": [
       "<matplotlib.colorbar.Colorbar at 0x24dbead04a8>"
      ]
     },
     "execution_count": 8,
     "metadata": {},
     "output_type": "execute_result"
    },
    {
     "data": {
      "image/png": "[encoded data removed]",
      "text/plain": [
       "<Figure size 432x288 with 2 Axes>"
      ]
     },
     "metadata": {
      "needs_background": "light"
     },
     "output_type": "display_data"
    }
   ],
   "source": [
    "imshow(tree_house_df[52].reshape((64,64)), cmap = 'binary')\n",
    "colorbar()"
   ]
  },
  {
   "cell_type": "code",
   "execution_count": 9,
   "metadata": {},
   "outputs": [],
   "source": [
    "tree_bicycle_df = np.zeros((2500,64,64,1))\n",
    "for i in range(2500):\n",
    "    img_generated = np.zeros((64,64))\n",
    "    random_index = random.randint(0,5000)\n",
    "    bicycle_images_copy = bicycle_images[random_index,:]/255\n",
    "    tree_images_copy = tree_images[random_index,:]/255\n",
    "    if random.random() < 0.5:\n",
    "        img_generated[17:45,0:28] = tree_images_copy.reshape((28, 28))\n",
    "        img_generated[17:45,32:60] = bicycle_images_copy.reshape((28, 28))\n",
    "    else:\n",
    "        img_generated[17:45,0:28] = bicycle_images_copy.reshape((28, 28))\n",
    "        img_generated[17:45,32:60] = tree_images_copy.reshape((28, 28))\n",
    "    tree_bicycle_df[i] = img_generated.reshape((64,64,1))"
   ]
  },
  {
   "cell_type": "code",
   "execution_count": 10,
   "metadata": {},
   "outputs": [],
   "source": [
    "house_bicycle_df = np.zeros((2500,64,64,1))\n",
    "for i in range(2500):\n",
    "    img_generated = np.zeros((64,64))\n",
    "    random_index = random.randint(0,5000)\n",
    "    house_images_copy = house_images[random_index,:]/255\n",
    "    bicycle_images_copy = bicycle_images[random_index,:]/255\n",
    "    if random.random() < 0.5:\n",
    "        img_generated[17:45,0:28] = house_images_copy.reshape((28, 28))\n",
    "        img_generated[17:45,32:60] = bicycle_images_copy.reshape((28, 28))\n",
    "    else:\n",
    "        img_generated[17:45,0:28] = bicycle_images_copy.reshape((28, 28))\n",
    "        img_generated[17:45,32:60] = house_images_copy.reshape((28, 28))\n",
    "    house_bicycle_df[i] = img_generated.reshape((64,64,1))"
   ]
  },
  {
   "cell_type": "code",
   "execution_count": 11,
   "metadata": {},
   "outputs": [],
   "source": [
    "image_raw = np.vstack((tree_house_df,tree_bicycle_df,house_bicycle_df))"
   ]
  },
  {
   "cell_type": "code",
   "execution_count": 12,
   "metadata": {},
   "outputs": [],
   "source": [
    "image_labels = np.concatenate((np.repeat(0, 2500),np.repeat(1, 2500),np.repeat(2, 2500)), axis=None)"
   ]
  },
  {
   "cell_type": "code",
   "execution_count": 13,
   "metadata": {},
   "outputs": [
    {
     "data": {
      "text/plain": [
       "(7500,)"
      ]
     },
     "execution_count": 13,
     "metadata": {},
     "output_type": "execute_result"
    }
   ],
   "source": [
    "image_labels.shape"
   ]
  },
  {
   "cell_type": "code",
   "execution_count": 14,
   "metadata": {},
   "outputs": [
    {
     "name": "stdout",
     "output_type": "stream",
     "text": [
      "1.14.0\n"
     ]
    }
   ],
   "source": [
    "# TensorFlow and tf.keras\n",
    "import tensorflow as tf\n",
    "from tensorflow import keras\n",
    "# Helper libraries\n",
    "import numpy as np\n",
    "import matplotlib.pyplot as plt\n",
    "\n",
    "print(tf.__version__)"
   ]
  },
  {
   "cell_type": "code",
   "execution_count": 15,
   "metadata": {},
   "outputs": [
    {
     "name": "stderr",
     "output_type": "stream",
     "text": [
      "Using TensorFlow backend.\n"
     ]
    }
   ],
   "source": [
    "import os\n",
    "os.environ[\"CUDA_VISIBLE_DEVICES\"] = \"0\"\n",
    "from keras.backend.tensorflow_backend import set_session\n",
    "tf_config = tf.ConfigProto()\n",
    "tf_config.gpu_options.allow_growth = True\n",
    "set_session(tf.Session(config=tf_config))"
   ]
  },
  {
   "cell_type": "code",
   "execution_count": 16,
   "metadata": {},
   "outputs": [],
   "source": [
    "import numpy as np\n",
    "from sklearn.model_selection import train_test_split"
   ]
  },
  {
   "cell_type": "code",
   "execution_count": 17,
   "metadata": {},
   "outputs": [],
   "source": [
    "X_train, X_test, y_train, y_test = train_test_split(image_raw, image_labels, test_size=0.2, random_state=42)"
   ]
  },
  {
   "cell_type": "code",
   "execution_count": 18,
   "metadata": {},
   "outputs": [
    {
     "name": "stdout",
     "output_type": "stream",
     "text": [
      "(6000, 64, 64, 1)\n"
     ]
    }
   ],
   "source": [
    "print(X_train.shape)"
   ]
  },
  {
   "cell_type": "code",
   "execution_count": 19,
   "metadata": {},
   "outputs": [
    {
     "name": "stdout",
     "output_type": "stream",
     "text": [
      "(1500, 64, 64, 1)\n"
     ]
    }
   ],
   "source": [
    "print(X_test.shape)"
   ]
  },
  {
   "cell_type": "code",
   "execution_count": 20,
   "metadata": {},
   "outputs": [],
   "source": [
    "from keras.layers import Dense, Input\n",
    "from keras.models import Model"
   ]
  },
  {
   "cell_type": "code",
   "execution_count": 21,
   "metadata": {},
   "outputs": [
    {
     "name": "stdout",
     "output_type": "stream",
     "text": [
      "WARNING:tensorflow:From C:\\Users\\Admin\\Anaconda3\\lib\\site-packages\\keras\\backend\\tensorflow_backend.py:58: The name tf.get_default_graph is deprecated. Please use tf.compat.v1.get_default_graph instead.\n",
      "\n",
      "WARNING:tensorflow:From C:\\Users\\Admin\\Anaconda3\\lib\\site-packages\\keras\\backend\\tensorflow_backend.py:442: The name tf.placeholder is deprecated. Please use tf.compat.v1.placeholder instead.\n",
      "\n",
      "WARNING:tensorflow:From C:\\Users\\Admin\\Anaconda3\\lib\\site-packages\\keras\\backend\\tensorflow_backend.py:3543: The name tf.random_uniform is deprecated. Please use tf.random.uniform instead.\n",
      "\n",
      "WARNING:tensorflow:From C:\\Users\\Admin\\Anaconda3\\lib\\site-packages\\keras\\optimizers.py:711: The name tf.train.Optimizer is deprecated. Please use tf.compat.v1.train.Optimizer instead.\n",
      "\n",
      "WARNING:tensorflow:From C:\\Users\\Admin\\Anaconda3\\lib\\site-packages\\keras\\backend\\tensorflow_backend.py:2819: The name tf.log is deprecated. Please use tf.math.log instead.\n",
      "\n",
      "WARNING:tensorflow:From C:\\Users\\Admin\\Anaconda3\\lib\\site-packages\\tensorflow\\python\\ops\\nn_impl.py:180: add_dispatch_support.<locals>.wrapper (from tensorflow.python.ops.array_ops) is deprecated and will be removed in a future version.\n",
      "Instructions for updating:\n",
      "Use tf.where in 2.0, which has the same broadcast rule as np.where\n"
     ]
    }
   ],
   "source": [
    "from keras.layers import Input, Dense, Conv2D, MaxPooling2D, UpSampling2D, Conv2DTranspose\n",
    "from keras.models import Model\n",
    "from keras import backend as K\n",
    "\n",
    "input_img = Input(shape=(64, 64, 1))  # adapt this if using `channels_first` image data format\n",
    "\n",
    "#x = Conv2D(16, (3, 3), activation='relu', padding='same')(input_img)\n",
    "#x = MaxPooling2D((2, 2), padding='same')(x)\n",
    "#x = Conv2D(8, (3, 3), activation='relu', padding='same')(x)\n",
    "#x = MaxPooling2D((2, 2), padding='same')(x)\n",
    "#x = Conv2D(8, (3, 3), activation='relu', padding='same')(x)\n",
    "#encoded = MaxPooling2D((2, 2), padding='same')(x)\n",
    "#x = Conv2D(8, (3, 3), activation='relu', padding='same')(encoded)\n",
    "#x = UpSampling2D((2, 2))(x)\n",
    "#x = Conv2D(8, (3, 3), activation='relu', padding='same')(x)\n",
    "#x = UpSampling2D((2, 2))(x)\n",
    "#x = Conv2D(16, (3, 3), activation='relu')(x)\n",
    "#x = UpSampling2D((2, 2))(x)\n",
    "#decoded = Conv2D(1, (3, 3), activation='sigmoid', padding='same')(x)\n",
    "\n",
    "#conv1 = Conv2D(16, kernel_size=3, activation='relu')(input_img)\n",
    "#pool1 = MaxPooling2D(pool_size=(2, 2))(conv1)\n",
    "#conv2 = Conv2D(16, kernel_size=3, activation='relu')(pool1)\n",
    "#pool2 = MaxPooling2D(pool_size=(2, 2))(conv2)\n",
    "#conv3 = Conv2D(8, kernel_size=3, activation='relu')(pool2)\n",
    "#encoded = MaxPooling2D(pool_size=(2, 2))(conv3)\n",
    "#conv3 = Conv2D(8, kernel_size=3, activation='relu')(encoded)\n",
    "#pool3 = UpSampling2D((2, 2))(conv3)\n",
    "#conv2 = Conv2D(8, kernel_size=3, activation='relu')(pool3)\n",
    "#pool2 = UpSampling2D((2, 2))(conv2)\n",
    "#conv1 = Conv2D(16, kernel_size=3, activation='relu')(pool2)\n",
    "#pool1 = UpSampling2D((2, 2))(conv1)\n",
    "#decoded = Conv2D(1, kernel_size=3, activation='sigmoid')(pool1)\n",
    "\n",
    "x = Conv2D(16, kernel_size=4, activation='relu')(input_img)\n",
    "x = Conv2D(32, kernel_size=4, activation='relu')(x)\n",
    "x = Conv2D(64, kernel_size=4, activation='relu')(x)\n",
    "x = Conv2D(128, kernel_size=4, activation='relu')(x)\n",
    "encoded = Conv2D(100, kernel_size=4, activation='sigmoid')(x)\n",
    "x = Conv2DTranspose(128, kernel_size=4, activation='relu')(encoded)\n",
    "x = Conv2DTranspose(64, kernel_size=4, activation='relu')(x)\n",
    "x = Conv2DTranspose(32, kernel_size=4, activation='relu')(x)\n",
    "x = Conv2DTranspose(16, kernel_size=4, activation='relu')(x)\n",
    "decoded = Conv2DTranspose(1, kernel_size=4, activation='sigmoid')(x)\n",
    "\n",
    "\n",
    "autoencoder = Model(input_img, decoded)\n",
    "autoencoder.compile(optimizer='adadelta', loss='binary_crossentropy')"
   ]
  },
  {
   "cell_type": "code",
   "execution_count": 23,
   "metadata": {
    "scrolled": true
   },
   "outputs": [
    {
     "name": "stdout",
     "output_type": "stream",
     "text": [
      "Train on 6000 samples, validate on 1500 samples\n",
      "Epoch 1/5\n",
      "6000/6000 [==============================] - 98s - loss: 0.1457 - val_loss: 0.0814\n",
      "Epoch 2/5\n",
      "6000/6000 [==============================] - 97s - loss: 0.0635 - val_loss: 0.0570\n",
      "Epoch 3/5\n",
      "6000/6000 [==============================] - 99s - loss: 0.0543 - val_loss: 0.0524\n",
      "Epoch 4/5\n",
      "6000/6000 [==============================] - 99s - loss: 0.0505 - val_loss: 0.0491\n",
      "Epoch 5/5\n",
      "6000/6000 [==============================] - 100s - loss: 0.0485 - val_loss: 0.0487\n"
     ]
    },
    {
     "data": {
      "text/plain": [
       "<keras.callbacks.History at 0x24d857b9208>"
      ]
     },
     "execution_count": 23,
     "metadata": {},
     "output_type": "execute_result"
    }
   ],
   "source": [
    "autoencoder.fit(X_train, X_train, epochs=5, batch_size=24, shuffle=True, validation_data=(X_test, X_test))"
   ]
  },
  {
   "cell_type": "code",
   "execution_count": null,
   "metadata": {},
   "outputs": [],
   "source": [
    "decoded_imgs = autoencoder.predict(X_test)\n",
    "\n",
    "n = 5\n",
    "plt.figure(figsize=(20, 4))\n",
    "for i in range(n):\n",
    "    # display original\n",
    "    ax = plt.subplot(2, n, i+1)\n",
    "    plt.imshow(X_test[i].reshape(64, 64))\n",
    "    plt.gray()\n",
    "    ax.get_xaxis().set_visible(False)\n",
    "    ax.get_yaxis().set_visible(False)\n",
    "\n",
    "    # display reconstruction\n",
    "    ax = plt.subplot(2, n, i + 1+n)\n",
    "    plt.imshow(decoded_imgs[i].reshape(64, 64))\n",
    "    plt.gray()\n",
    "    ax.get_xaxis().set_visible(False)\n",
    "    ax.get_yaxis().set_visible(False)\n",
    "plt.show()"
   ]
  },
  {
   "cell_type": "code",
   "execution_count": null,
   "metadata": {},
   "outputs": [],
   "source": [
    "encoder = Model(inputs = input_img, outputs = encoded)"
   ]
  },
  {
   "cell_type": "code",
   "execution_count": null,
   "metadata": {},
   "outputs": [],
   "source": [
    "X_test_enc = encoder.predict(X_test)"
   ]
  },
  {
   "cell_type": "code",
   "execution_count": null,
   "metadata": {},
   "outputs": [],
   "source": [
    "imshow(X_test[0].reshape((64,64)))"
   ]
  },
  {
   "cell_type": "code",
   "execution_count": null,
   "metadata": {},
   "outputs": [],
   "source": [
    "imshow(X_test[7].reshape((64,64)))"
   ]
  },
  {
   "cell_type": "code",
   "execution_count": null,
   "metadata": {},
   "outputs": [],
   "source": [
    "X_test_enc[0].ravel()"
   ]
  },
  {
   "cell_type": "code",
   "execution_count": null,
   "metadata": {},
   "outputs": [],
   "source": [
    "X_test_enc[7].ravel()"
   ]
  },
  {
   "cell_type": "code",
   "execution_count": null,
   "metadata": {},
   "outputs": [],
   "source": [
    "from scipy.spatial import distance\n",
    "distance.jaccard(X_test_enc[0].ravel(), X_test_enc[7].ravel())"
   ]
  }
 ],
 "metadata": {
  "kernelspec": {
   "display_name": "Python 3",
   "language": "python",
   "name": "python3"
  },
  "language_info": {
   "codemirror_mode": {
    "name": "ipython",
    "version": 3
   },
   "file_extension": ".py",
   "mimetype": "text/x-python",
   "name": "python",
   "nbconvert_exporter": "python",
   "pygments_lexer": "ipython3",
   "version": "3.6.8"
  }
 },
 "nbformat": 4,
 "nbformat_minor": 2
}
